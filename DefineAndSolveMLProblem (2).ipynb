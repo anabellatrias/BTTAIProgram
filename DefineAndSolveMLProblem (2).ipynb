{
 "cells": [
  {
   "cell_type": "markdown",
   "metadata": {},
   "source": [
    "# Lab 8: Define and Solve an ML Problem of Your Choosing"
   ]
  },
  {
   "cell_type": "code",
   "execution_count": 21,
   "metadata": {},
   "outputs": [],
   "source": [
    "import pandas as pd\n",
    "import numpy as np\n",
    "import os \n",
    "import matplotlib.pyplot as plt\n",
    "import seaborn as sns"
   ]
  },
  {
   "cell_type": "markdown",
   "metadata": {},
   "source": [
    "In this lab assignment, you will follow the machine learning life cycle and implement a model to solve a machine learning problem of your choosing. You will select a data set and choose a predictive problem that the data set supports.  You will then inspect the data with your problem in mind and begin to formulate a  project plan. You will then implement the machine learning project plan. \n",
    "\n",
    "You will complete the following tasks:\n",
    "\n",
    "1. Build Your DataFrame\n",
    "2. Define Your ML Problem\n",
    "3. Perform exploratory data analysis to understand your data.\n",
    "4. Define Your Project Plan\n",
    "5. Implement Your Project Plan:\n",
    "    * Prepare your data for your model.\n",
    "    * Fit your model to the training data and evaluate your model.\n",
    "    * Improve your model's performance."
   ]
  },
  {
   "cell_type": "markdown",
   "metadata": {},
   "source": [
    "## Part 1: Build Your DataFrame\n",
    "\n",
    "You will have the option to choose one of four data sets that you have worked with in this program:\n",
    "\n",
    "* The \"census\" data set that contains Census information from 1994: `censusData.csv`\n",
    "* Airbnb NYC \"listings\" data set: `airbnbListingsData.csv`\n",
    "* World Happiness Report (WHR) data set: `WHR2018Chapter2OnlineData.csv`\n",
    "* Book Review data set: `bookReviewsData.csv`\n",
    "\n",
    "Note that these are variations of the data sets that you have worked with in this program. For example, some do not include some of the preprocessing necessary for specific models. \n",
    "\n",
    "#### Load a Data Set and Save it as a Pandas DataFrame\n",
    "\n",
    "The code cell below contains filenames (path + filename) for each of the four data sets available to you.\n",
    "\n",
    "<b>Task:</b> In the code cell below, use the same method you have been using to load the data using `pd.read_csv()` and save it to DataFrame `df`. \n",
    "\n",
    "You can load each file as a new DataFrame to inspect the data before choosing your data set."
   ]
  },
  {
   "cell_type": "code",
   "execution_count": 22,
   "metadata": {},
   "outputs": [
    {
     "data": {
      "text/html": [
       "<div>\n",
       "<style scoped>\n",
       "    .dataframe tbody tr th:only-of-type {\n",
       "        vertical-align: middle;\n",
       "    }\n",
       "\n",
       "    .dataframe tbody tr th {\n",
       "        vertical-align: top;\n",
       "    }\n",
       "\n",
       "    .dataframe thead th {\n",
       "        text-align: right;\n",
       "    }\n",
       "</style>\n",
       "<table border=\"1\" class=\"dataframe\">\n",
       "  <thead>\n",
       "    <tr style=\"text-align: right;\">\n",
       "      <th></th>\n",
       "      <th>name</th>\n",
       "      <th>description</th>\n",
       "      <th>neighborhood_overview</th>\n",
       "      <th>host_name</th>\n",
       "      <th>host_location</th>\n",
       "      <th>host_about</th>\n",
       "      <th>host_response_rate</th>\n",
       "      <th>host_acceptance_rate</th>\n",
       "      <th>host_is_superhost</th>\n",
       "      <th>host_listings_count</th>\n",
       "      <th>...</th>\n",
       "      <th>review_scores_communication</th>\n",
       "      <th>review_scores_location</th>\n",
       "      <th>review_scores_value</th>\n",
       "      <th>instant_bookable</th>\n",
       "      <th>calculated_host_listings_count</th>\n",
       "      <th>calculated_host_listings_count_entire_homes</th>\n",
       "      <th>calculated_host_listings_count_private_rooms</th>\n",
       "      <th>calculated_host_listings_count_shared_rooms</th>\n",
       "      <th>reviews_per_month</th>\n",
       "      <th>n_host_verifications</th>\n",
       "    </tr>\n",
       "  </thead>\n",
       "  <tbody>\n",
       "    <tr>\n",
       "      <th>0</th>\n",
       "      <td>Skylit Midtown Castle</td>\n",
       "      <td>Beautiful, spacious skylit studio in the heart...</td>\n",
       "      <td>Centrally located in the heart of Manhattan ju...</td>\n",
       "      <td>Jennifer</td>\n",
       "      <td>New York, New York, United States</td>\n",
       "      <td>A New Yorker since 2000! My passion is creatin...</td>\n",
       "      <td>0.80</td>\n",
       "      <td>0.17</td>\n",
       "      <td>True</td>\n",
       "      <td>8.0</td>\n",
       "      <td>...</td>\n",
       "      <td>4.79</td>\n",
       "      <td>4.86</td>\n",
       "      <td>4.41</td>\n",
       "      <td>False</td>\n",
       "      <td>3</td>\n",
       "      <td>3</td>\n",
       "      <td>0</td>\n",
       "      <td>0</td>\n",
       "      <td>0.33</td>\n",
       "      <td>9</td>\n",
       "    </tr>\n",
       "    <tr>\n",
       "      <th>1</th>\n",
       "      <td>Whole flr w/private bdrm, bath &amp; kitchen(pls r...</td>\n",
       "      <td>Enjoy 500 s.f. top floor in 1899 brownstone, w...</td>\n",
       "      <td>Just the right mix of urban center and local n...</td>\n",
       "      <td>LisaRoxanne</td>\n",
       "      <td>New York, New York, United States</td>\n",
       "      <td>Laid-back Native New Yorker (formerly bi-coast...</td>\n",
       "      <td>0.09</td>\n",
       "      <td>0.69</td>\n",
       "      <td>True</td>\n",
       "      <td>1.0</td>\n",
       "      <td>...</td>\n",
       "      <td>4.80</td>\n",
       "      <td>4.71</td>\n",
       "      <td>4.64</td>\n",
       "      <td>False</td>\n",
       "      <td>1</td>\n",
       "      <td>1</td>\n",
       "      <td>0</td>\n",
       "      <td>0</td>\n",
       "      <td>4.86</td>\n",
       "      <td>6</td>\n",
       "    </tr>\n",
       "    <tr>\n",
       "      <th>2</th>\n",
       "      <td>Spacious Brooklyn Duplex, Patio + Garden</td>\n",
       "      <td>We welcome you to stay in our lovely 2 br dupl...</td>\n",
       "      <td>NaN</td>\n",
       "      <td>Rebecca</td>\n",
       "      <td>Brooklyn, New York, United States</td>\n",
       "      <td>Rebecca is an artist/designer, and Henoch is i...</td>\n",
       "      <td>1.00</td>\n",
       "      <td>0.25</td>\n",
       "      <td>True</td>\n",
       "      <td>1.0</td>\n",
       "      <td>...</td>\n",
       "      <td>5.00</td>\n",
       "      <td>4.50</td>\n",
       "      <td>5.00</td>\n",
       "      <td>False</td>\n",
       "      <td>1</td>\n",
       "      <td>1</td>\n",
       "      <td>0</td>\n",
       "      <td>0</td>\n",
       "      <td>0.02</td>\n",
       "      <td>3</td>\n",
       "    </tr>\n",
       "    <tr>\n",
       "      <th>3</th>\n",
       "      <td>Large Furnished Room Near B'way</td>\n",
       "      <td>Please don’t expect the luxury here just a bas...</td>\n",
       "      <td>Theater district, many restaurants around here.</td>\n",
       "      <td>Shunichi</td>\n",
       "      <td>New York, New York, United States</td>\n",
       "      <td>I used to work for a financial industry but no...</td>\n",
       "      <td>1.00</td>\n",
       "      <td>1.00</td>\n",
       "      <td>True</td>\n",
       "      <td>1.0</td>\n",
       "      <td>...</td>\n",
       "      <td>4.42</td>\n",
       "      <td>4.87</td>\n",
       "      <td>4.36</td>\n",
       "      <td>False</td>\n",
       "      <td>1</td>\n",
       "      <td>0</td>\n",
       "      <td>1</td>\n",
       "      <td>0</td>\n",
       "      <td>3.68</td>\n",
       "      <td>4</td>\n",
       "    </tr>\n",
       "    <tr>\n",
       "      <th>4</th>\n",
       "      <td>Cozy Clean Guest Room - Family Apt</td>\n",
       "      <td>Our best guests are seeking a safe, clean, spa...</td>\n",
       "      <td>Our neighborhood is full of restaurants and ca...</td>\n",
       "      <td>MaryEllen</td>\n",
       "      <td>New York, New York, United States</td>\n",
       "      <td>Welcome to family life with my oldest two away...</td>\n",
       "      <td>NaN</td>\n",
       "      <td>NaN</td>\n",
       "      <td>True</td>\n",
       "      <td>1.0</td>\n",
       "      <td>...</td>\n",
       "      <td>4.95</td>\n",
       "      <td>4.94</td>\n",
       "      <td>4.92</td>\n",
       "      <td>False</td>\n",
       "      <td>1</td>\n",
       "      <td>0</td>\n",
       "      <td>1</td>\n",
       "      <td>0</td>\n",
       "      <td>0.87</td>\n",
       "      <td>7</td>\n",
       "    </tr>\n",
       "  </tbody>\n",
       "</table>\n",
       "<p>5 rows × 50 columns</p>\n",
       "</div>"
      ],
      "text/plain": [
       "                                                name  \\\n",
       "0                              Skylit Midtown Castle   \n",
       "1  Whole flr w/private bdrm, bath & kitchen(pls r...   \n",
       "2           Spacious Brooklyn Duplex, Patio + Garden   \n",
       "3                   Large Furnished Room Near B'way　   \n",
       "4                 Cozy Clean Guest Room - Family Apt   \n",
       "\n",
       "                                         description  \\\n",
       "0  Beautiful, spacious skylit studio in the heart...   \n",
       "1  Enjoy 500 s.f. top floor in 1899 brownstone, w...   \n",
       "2  We welcome you to stay in our lovely 2 br dupl...   \n",
       "3  Please don’t expect the luxury here just a bas...   \n",
       "4  Our best guests are seeking a safe, clean, spa...   \n",
       "\n",
       "                               neighborhood_overview    host_name  \\\n",
       "0  Centrally located in the heart of Manhattan ju...     Jennifer   \n",
       "1  Just the right mix of urban center and local n...  LisaRoxanne   \n",
       "2                                                NaN      Rebecca   \n",
       "3    Theater district, many restaurants around here.     Shunichi   \n",
       "4  Our neighborhood is full of restaurants and ca...    MaryEllen   \n",
       "\n",
       "                       host_location  \\\n",
       "0  New York, New York, United States   \n",
       "1  New York, New York, United States   \n",
       "2  Brooklyn, New York, United States   \n",
       "3  New York, New York, United States   \n",
       "4  New York, New York, United States   \n",
       "\n",
       "                                          host_about  host_response_rate  \\\n",
       "0  A New Yorker since 2000! My passion is creatin...                0.80   \n",
       "1  Laid-back Native New Yorker (formerly bi-coast...                0.09   \n",
       "2  Rebecca is an artist/designer, and Henoch is i...                1.00   \n",
       "3  I used to work for a financial industry but no...                1.00   \n",
       "4  Welcome to family life with my oldest two away...                 NaN   \n",
       "\n",
       "   host_acceptance_rate  host_is_superhost  host_listings_count  ...  \\\n",
       "0                  0.17               True                  8.0  ...   \n",
       "1                  0.69               True                  1.0  ...   \n",
       "2                  0.25               True                  1.0  ...   \n",
       "3                  1.00               True                  1.0  ...   \n",
       "4                   NaN               True                  1.0  ...   \n",
       "\n",
       "   review_scores_communication  review_scores_location  review_scores_value  \\\n",
       "0                         4.79                    4.86                 4.41   \n",
       "1                         4.80                    4.71                 4.64   \n",
       "2                         5.00                    4.50                 5.00   \n",
       "3                         4.42                    4.87                 4.36   \n",
       "4                         4.95                    4.94                 4.92   \n",
       "\n",
       "  instant_bookable calculated_host_listings_count  \\\n",
       "0            False                              3   \n",
       "1            False                              1   \n",
       "2            False                              1   \n",
       "3            False                              1   \n",
       "4            False                              1   \n",
       "\n",
       "   calculated_host_listings_count_entire_homes  \\\n",
       "0                                            3   \n",
       "1                                            1   \n",
       "2                                            1   \n",
       "3                                            0   \n",
       "4                                            0   \n",
       "\n",
       "   calculated_host_listings_count_private_rooms  \\\n",
       "0                                             0   \n",
       "1                                             0   \n",
       "2                                             0   \n",
       "3                                             1   \n",
       "4                                             1   \n",
       "\n",
       "   calculated_host_listings_count_shared_rooms  reviews_per_month  \\\n",
       "0                                            0               0.33   \n",
       "1                                            0               4.86   \n",
       "2                                            0               0.02   \n",
       "3                                            0               3.68   \n",
       "4                                            0               0.87   \n",
       "\n",
       "  n_host_verifications  \n",
       "0                    9  \n",
       "1                    6  \n",
       "2                    3  \n",
       "3                    4  \n",
       "4                    7  \n",
       "\n",
       "[5 rows x 50 columns]"
      ]
     },
     "execution_count": 22,
     "metadata": {},
     "output_type": "execute_result"
    }
   ],
   "source": [
    "# File names of the four data sets\n",
    "adultDataSet_filename = os.path.join(os.getcwd(), \"data\", \"censusData.csv\")\n",
    "airbnbDataSet_filename = os.path.join(os.getcwd(), \"data\", \"airbnbListingsData.csv\")\n",
    "WHRDataSet_filename = os.path.join(os.getcwd(), \"data\", \"WHR2018Chapter2OnlineData.csv\")\n",
    "bookReviewDataSet_filename = os.path.join(os.getcwd(), \"data\", \"bookReviewsData.csv\")\n",
    "\n",
    "\n",
    "df = pd.read_csv(airbnbDataSet_filename)\n",
    "\n",
    "df.head()"
   ]
  },
  {
   "cell_type": "code",
   "execution_count": 23,
   "metadata": {},
   "outputs": [
    {
     "data": {
      "text/plain": [
       "Index(['name', 'description', 'neighborhood_overview', 'host_name',\n",
       "       'host_location', 'host_about', 'host_response_rate',\n",
       "       'host_acceptance_rate', 'host_is_superhost', 'host_listings_count',\n",
       "       'host_total_listings_count', 'host_has_profile_pic',\n",
       "       'host_identity_verified', 'neighbourhood_group_cleansed', 'room_type',\n",
       "       'accommodates', 'bathrooms', 'bedrooms', 'beds', 'amenities', 'price',\n",
       "       'minimum_nights', 'maximum_nights', 'minimum_minimum_nights',\n",
       "       'maximum_minimum_nights', 'minimum_maximum_nights',\n",
       "       'maximum_maximum_nights', 'minimum_nights_avg_ntm',\n",
       "       'maximum_nights_avg_ntm', 'has_availability', 'availability_30',\n",
       "       'availability_60', 'availability_90', 'availability_365',\n",
       "       'number_of_reviews', 'number_of_reviews_ltm', 'number_of_reviews_l30d',\n",
       "       'review_scores_rating', 'review_scores_cleanliness',\n",
       "       'review_scores_checkin', 'review_scores_communication',\n",
       "       'review_scores_location', 'review_scores_value', 'instant_bookable',\n",
       "       'calculated_host_listings_count',\n",
       "       'calculated_host_listings_count_entire_homes',\n",
       "       'calculated_host_listings_count_private_rooms',\n",
       "       'calculated_host_listings_count_shared_rooms', 'reviews_per_month',\n",
       "       'n_host_verifications'],\n",
       "      dtype='object')"
      ]
     },
     "execution_count": 23,
     "metadata": {},
     "output_type": "execute_result"
    }
   ],
   "source": [
    "df.columns"
   ]
  },
  {
   "cell_type": "markdown",
   "metadata": {},
   "source": [
    "## Part 2: Define Your ML Problem\n",
    "\n",
    "Next you will formulate your ML Problem. In the markdown cell below, answer the following questions:\n",
    "\n",
    "1. List the data set you have chosen.\n",
    "2. What will you be predicting? What is the label?\n",
    "3. Is this a supervised or unsupervised learning problem? Is this a clustering, classification or regression problem? Is it a binary classificaiton or multi-class classifiction problem?\n",
    "4. What are your features? (note: this list may change after your explore your data)\n",
    "5. Explain why this is an important problem. In other words, how would a company create value with a model that predicts this label?"
   ]
  },
  {
   "cell_type": "markdown",
   "metadata": {},
   "source": [
    "1. I have chosen the data set for the AirBnB listings in NYC. \n",
    "2. I will be predicting the neighborhood (neighborhood_group_cleansed) of each listing.\n",
    "3. This is a supervised learning, multi-class classification problem.\n",
    "4. My features will be price, accomodates, bathrooms, bedrooms, beds, name, description, neighborhood_overview, availability_365, review_scores_rating, room_type, host_is_superhost, etc. \n",
    "5. Accurately predicting the neighborhood from these features can help with fraud detection, search optimization by classifying listings that may be missing the neighborhood, personalized offers for customers, and to tailor marketing strategies. "
   ]
  },
  {
   "cell_type": "markdown",
   "metadata": {},
   "source": [
    "## Part 3: Understand Your Data\n",
    "\n",
    "The next step is to perform exploratory data analysis. Inspect and analyze your data set with your machine learning problem in mind. Consider the following as you inspect your data:\n",
    "\n",
    "1. What data preparation techniques would you like to use? These data preparation techniques may include:\n",
    "\n",
    "    * addressing missingness, such as replacing missing values with means\n",
    "    * finding and replacing outliers\n",
    "    * renaming features and labels\n",
    "    * finding and replacing outliers\n",
    "    * performing feature engineering techniques such as one-hot encoding on categorical features\n",
    "    * selecting appropriate features and removing irrelevant features\n",
    "    * performing specific data cleaning and preprocessing techniques for an NLP problem\n",
    "    * addressing class imbalance in your data sample to promote fair AI\n",
    "    \n",
    "\n",
    "2. What machine learning model (or models) you would like to use that is suitable for your predictive problem and data?\n",
    "    * Are there other data preparation techniques that you will need to apply to build a balanced modeling data set for your problem and model? For example, will you need to scale your data?\n",
    " \n",
    " \n",
    "3. How will you evaluate and improve the model's performance?\n",
    "    * Are there specific evaluation metrics and methods that are appropriate for your model?\n",
    "    \n",
    "\n",
    "Think of the different techniques you have used to inspect and analyze your data in this course. These include using Pandas to apply data filters, using the Pandas `describe()` method to get insight into key statistics for each column, using the Pandas `dtypes` property to inspect the data type of each column, and using Matplotlib and Seaborn to detect outliers and visualize relationships between features and labels. If you are working on a classification problem, use techniques you have learned to determine if there is class imbalance.\n",
    "\n",
    "<b>Task</b>: Use the techniques you have learned in this course to inspect and analyze your data. You can import additional packages that you have used in this course that you will need to perform this task.\n",
    "\n",
    "<b>Note</b>: You can add code cells if needed by going to the <b>Insert</b> menu and clicking on <b>Insert Cell Below</b> in the drop-drown menu."
   ]
  },
  {
   "cell_type": "code",
   "execution_count": 24,
   "metadata": {},
   "outputs": [
    {
     "name": "stdout",
     "output_type": "stream",
     "text": [
      "name                                             object\n",
      "description                                      object\n",
      "neighborhood_overview                            object\n",
      "host_name                                        object\n",
      "host_location                                    object\n",
      "host_about                                       object\n",
      "host_response_rate                              float64\n",
      "host_acceptance_rate                            float64\n",
      "host_is_superhost                                  bool\n",
      "host_listings_count                             float64\n",
      "host_total_listings_count                       float64\n",
      "host_has_profile_pic                               bool\n",
      "host_identity_verified                             bool\n",
      "neighbourhood_group_cleansed                     object\n",
      "room_type                                        object\n",
      "accommodates                                      int64\n",
      "bathrooms                                       float64\n",
      "bedrooms                                        float64\n",
      "beds                                            float64\n",
      "amenities                                        object\n",
      "price                                           float64\n",
      "minimum_nights                                    int64\n",
      "maximum_nights                                    int64\n",
      "minimum_minimum_nights                          float64\n",
      "maximum_minimum_nights                          float64\n",
      "minimum_maximum_nights                          float64\n",
      "maximum_maximum_nights                          float64\n",
      "minimum_nights_avg_ntm                          float64\n",
      "maximum_nights_avg_ntm                          float64\n",
      "has_availability                                   bool\n",
      "availability_30                                   int64\n",
      "availability_60                                   int64\n",
      "availability_90                                   int64\n",
      "availability_365                                  int64\n",
      "number_of_reviews                                 int64\n",
      "number_of_reviews_ltm                             int64\n",
      "number_of_reviews_l30d                            int64\n",
      "review_scores_rating                            float64\n",
      "review_scores_cleanliness                       float64\n",
      "review_scores_checkin                           float64\n",
      "review_scores_communication                     float64\n",
      "review_scores_location                          float64\n",
      "review_scores_value                             float64\n",
      "instant_bookable                                   bool\n",
      "calculated_host_listings_count                    int64\n",
      "calculated_host_listings_count_entire_homes       int64\n",
      "calculated_host_listings_count_private_rooms      int64\n",
      "calculated_host_listings_count_shared_rooms       int64\n",
      "reviews_per_month                               float64\n",
      "n_host_verifications                              int64\n",
      "dtype: object\n",
      "name                                                5\n",
      "description                                       570\n",
      "neighborhood_overview                            9816\n",
      "host_name                                           0\n",
      "host_location                                      60\n",
      "host_about                                      10945\n",
      "host_response_rate                              11843\n",
      "host_acceptance_rate                            11113\n",
      "host_is_superhost                                   0\n",
      "host_listings_count                                 0\n",
      "host_total_listings_count                           0\n",
      "host_has_profile_pic                                0\n",
      "host_identity_verified                              0\n",
      "neighbourhood_group_cleansed                        0\n",
      "room_type                                           0\n",
      "accommodates                                        0\n",
      "bathrooms                                           0\n",
      "bedrooms                                         2918\n",
      "beds                                             1354\n",
      "amenities                                           0\n",
      "price                                               0\n",
      "minimum_nights                                      0\n",
      "maximum_nights                                      0\n",
      "minimum_minimum_nights                              0\n",
      "maximum_minimum_nights                              0\n",
      "minimum_maximum_nights                              0\n",
      "maximum_maximum_nights                              0\n",
      "minimum_nights_avg_ntm                              0\n",
      "maximum_nights_avg_ntm                              0\n",
      "has_availability                                    0\n",
      "availability_30                                     0\n",
      "availability_60                                     0\n",
      "availability_90                                     0\n",
      "availability_365                                    0\n",
      "number_of_reviews                                   0\n",
      "number_of_reviews_ltm                               0\n",
      "number_of_reviews_l30d                              0\n",
      "review_scores_rating                                0\n",
      "review_scores_cleanliness                           0\n",
      "review_scores_checkin                               0\n",
      "review_scores_communication                         0\n",
      "review_scores_location                              0\n",
      "review_scores_value                                 0\n",
      "instant_bookable                                    0\n",
      "calculated_host_listings_count                      0\n",
      "calculated_host_listings_count_entire_homes         0\n",
      "calculated_host_listings_count_private_rooms        0\n",
      "calculated_host_listings_count_shared_rooms         0\n",
      "reviews_per_month                                   0\n",
      "n_host_verifications                                0\n",
      "dtype: int64\n",
      "       host_response_rate  host_acceptance_rate  host_listings_count  \\\n",
      "count        16179.000000          16909.000000         28022.000000   \n",
      "mean             0.906901              0.791953            14.554778   \n",
      "std              0.227282              0.276732           120.721287   \n",
      "min              0.000000              0.000000             0.000000   \n",
      "25%              0.940000              0.680000             1.000000   \n",
      "50%              1.000000              0.910000             1.000000   \n",
      "75%              1.000000              1.000000             3.000000   \n",
      "max              1.000000              1.000000          3387.000000   \n",
      "\n",
      "       host_total_listings_count  accommodates     bathrooms      bedrooms  \\\n",
      "count               28022.000000  28022.000000  28022.000000  25104.000000   \n",
      "mean                   14.554778      2.874491      1.142174      1.329708   \n",
      "std                   120.721287      1.860251      0.421132      0.700726   \n",
      "min                     0.000000      1.000000      0.000000      1.000000   \n",
      "25%                     1.000000      2.000000      1.000000      1.000000   \n",
      "50%                     1.000000      2.000000      1.000000      1.000000   \n",
      "75%                     3.000000      4.000000      1.000000      1.000000   \n",
      "max                  3387.000000     16.000000      8.000000     12.000000   \n",
      "\n",
      "               beds         price  minimum_nights  ...  review_scores_checkin  \\\n",
      "count  26668.000000  28022.000000    28022.000000  ...           28022.000000   \n",
      "mean       1.629556    154.228749       18.689387  ...               4.814300   \n",
      "std        1.097104    140.816605       25.569151  ...               0.438603   \n",
      "min        1.000000     29.000000        1.000000  ...               0.000000   \n",
      "25%        1.000000     70.000000        2.000000  ...               4.810000   \n",
      "50%        1.000000    115.000000       30.000000  ...               4.960000   \n",
      "75%        2.000000    180.000000       30.000000  ...               5.000000   \n",
      "max       21.000000   1000.000000     1250.000000  ...               5.000000   \n",
      "\n",
      "       review_scores_communication  review_scores_location  \\\n",
      "count                 28022.000000            28022.000000   \n",
      "mean                      4.808041                4.750393   \n",
      "std                       0.464585                0.415717   \n",
      "min                       0.000000                0.000000   \n",
      "25%                       4.810000                4.670000   \n",
      "50%                       4.970000                4.880000   \n",
      "75%                       5.000000                5.000000   \n",
      "max                       5.000000                5.000000   \n",
      "\n",
      "       review_scores_value  calculated_host_listings_count  \\\n",
      "count         28022.000000                    28022.000000   \n",
      "mean              4.647670                        9.581900   \n",
      "std               0.518023                       32.227523   \n",
      "min               0.000000                        1.000000   \n",
      "25%               4.550000                        1.000000   \n",
      "50%               4.780000                        1.000000   \n",
      "75%               5.000000                        3.000000   \n",
      "max               5.000000                      421.000000   \n",
      "\n",
      "       calculated_host_listings_count_entire_homes  \\\n",
      "count                                 28022.000000   \n",
      "mean                                      5.562986   \n",
      "std                                      26.121426   \n",
      "min                                       0.000000   \n",
      "25%                                       0.000000   \n",
      "50%                                       1.000000   \n",
      "75%                                       1.000000   \n",
      "max                                     308.000000   \n",
      "\n",
      "       calculated_host_listings_count_private_rooms  \\\n",
      "count                                  28022.000000   \n",
      "mean                                       3.902077   \n",
      "std                                       17.972386   \n",
      "min                                        0.000000   \n",
      "25%                                        0.000000   \n",
      "50%                                        0.000000   \n",
      "75%                                        1.000000   \n",
      "max                                      359.000000   \n",
      "\n",
      "       calculated_host_listings_count_shared_rooms  reviews_per_month  \\\n",
      "count                                 28022.000000       28022.000000   \n",
      "mean                                      0.048283           1.758325   \n",
      "std                                       0.442459           4.446143   \n",
      "min                                       0.000000           0.010000   \n",
      "25%                                       0.000000           0.130000   \n",
      "50%                                       0.000000           0.510000   \n",
      "75%                                       0.000000           1.830000   \n",
      "max                                       8.000000         141.000000   \n",
      "\n",
      "       n_host_verifications  \n",
      "count          28022.000000  \n",
      "mean               5.169510  \n",
      "std                2.028497  \n",
      "min                1.000000  \n",
      "25%                4.000000  \n",
      "50%                5.000000  \n",
      "75%                7.000000  \n",
      "max               13.000000  \n",
      "\n",
      "[8 rows x 36 columns]\n"
     ]
    }
   ],
   "source": [
    "# Check Data Types and Missing Values\n",
    "print(df.dtypes)\n",
    "print(df.isnull().sum())\n",
    "\n",
    "# Check Summary\n",
    "print(df.describe())"
   ]
  },
  {
   "cell_type": "code",
   "execution_count": 25,
   "metadata": {},
   "outputs": [],
   "source": [
    "# Drop Text Columns with Lots of Missing Values or Low Value\n",
    "df.drop(columns = ['host_about', 'host_response_rate', 'host_name', 'name', 'host_location'], inplace = True)"
   ]
  },
  {
   "cell_type": "code",
   "execution_count": 26,
   "metadata": {},
   "outputs": [
    {
     "data": {
      "image/png": "[encoded data removed]",
      "text/plain": [
       "<Figure size 800x400 with 1 Axes>"
      ]
     },
     "metadata": {},
     "output_type": "display_data"
    },
    {
     "data": {
      "image/png": "[encoded data removed]",
      "text/plain": [
       "<Figure size 800x400 with 1 Axes>"
      ]
     },
     "metadata": {},
     "output_type": "display_data"
    },
    {
     "data": {
      "image/png": "[encoded data removed]",
      "text/plain": [
       "<Figure size 800x400 with 1 Axes>"
      ]
     },
     "metadata": {},
     "output_type": "display_data"
    },
    {
     "data": {
      "image/png": "[encoded data removed]",
      "text/plain": [
       "<Figure size 800x400 with 1 Axes>"
      ]
     },
     "metadata": {},
     "output_type": "display_data"
    },
    {
     "data": {
      "image/png": "[encoded data removed]",
      "text/plain": [
       "<Figure size 800x400 with 1 Axes>"
      ]
     },
     "metadata": {},
     "output_type": "display_data"
    }
   ],
   "source": [
    "# Check for Outliers\n",
    "\n",
    "import seaborn as sns\n",
    "import matplotlib.pyplot as plt\n",
    "\n",
    "ncols = ['price', 'accommodates','bedrooms', 'beds', 'availability_365']\n",
    "\n",
    "for col in ncols:\n",
    "    plt.figure(figsize = (8,4))\n",
    "    sns.boxplot(x=df[col])\n",
    "    plt.title(f\"Boxplot of {col}\")\n",
    "    plt.show()"
   ]
  },
  {
   "cell_type": "code",
   "execution_count": 27,
   "metadata": {},
   "outputs": [],
   "source": [
    "df.rename(columns = {'neighbourhood_group_cleansed': 'neighbourhood_group'}, inplace=True)"
   ]
  },
  {
   "cell_type": "code",
   "execution_count": 28,
   "metadata": {},
   "outputs": [
    {
     "name": "stdout",
     "output_type": "stream",
     "text": [
      "Data Shape after outlier removal: (23151, 45)\n"
     ]
    }
   ],
   "source": [
    "# Handle Outliers by capping at 99th percentile\n",
    "\n",
    "for col in ['price','accommodates','beds','bedrooms']:\n",
    "    upper_limit = df[col].quantile(0.99)\n",
    "    df = df[df[col] <= upper_limit]\n",
    "    \n",
    "print(f\"Data Shape after outlier removal: {df.shape}\")"
   ]
  },
  {
   "cell_type": "code",
   "execution_count": 29,
   "metadata": {},
   "outputs": [],
   "source": [
    "# Use Median for Numerical Columns\n",
    "df['bedrooms'].fillna(df['bedrooms'].median(), inplace = True)\n",
    "df['beds'].fillna(df['beds'].median(), inplace = True)\n",
    "\n",
    "# Imput Missing for Text Columns\n",
    "df['description'].fillna('missing', inplace=True)\n",
    "df['neighborhood_overview'].fillna('missing', inplace=True)"
   ]
  },
  {
   "cell_type": "code",
   "execution_count": 30,
   "metadata": {},
   "outputs": [
    {
     "data": {
      "image/png": "[encoded data removed]",
      "text/plain": [
       "<Figure size 640x480 with 1 Axes>"
      ]
     },
     "metadata": {},
     "output_type": "display_data"
    },
    {
     "name": "stdout",
     "output_type": "stream",
     "text": [
      "Brooklyn         0.422487\n",
      "Manhattan        0.386808\n",
      "Queens           0.150317\n",
      "Bronx            0.030323\n",
      "Staten Island    0.010064\n",
      "Name: neighbourhood_group, dtype: float64\n"
     ]
    }
   ],
   "source": [
    "# Check Class Balance for Label\n",
    "sns.countplot(x='neighbourhood_group',data=df)\n",
    "plt.title(\"Class Distribution for Target\")\n",
    "plt.xticks(rotation=45)\n",
    "plt.show()\n",
    "\n",
    "print(df['neighbourhood_group'].value_counts(normalize=True))"
   ]
  },
  {
   "cell_type": "code",
   "execution_count": 31,
   "metadata": {},
   "outputs": [],
   "source": [
    "# Select Features I will be Using\n",
    "\n",
    "selected_features = [\n",
    "    'price','accommodates','bedrooms','beds','availability_365','room_type','host_is_superhost','description'\n",
    "]"
   ]
  },
  {
   "cell_type": "code",
   "execution_count": 32,
   "metadata": {},
   "outputs": [
    {
     "name": "stdout",
     "output_type": "stream",
     "text": [
      "Unique values per categorical column:\n",
      "room_type: 4 unique values\n",
      "neighbourhood_group: 5 unique values\n"
     ]
    }
   ],
   "source": [
    "# Get features for encoding\n",
    "\n",
    "categorical_cols = ['room_type','neighbourhood_group']\n",
    "print(\"Unique values per categorical column:\")\n",
    "for col in categorical_cols:\n",
    "    print(f\"{col}: {df[col].nunique()} unique values\")"
   ]
  },
  {
   "cell_type": "markdown",
   "metadata": {},
   "source": [
    "## Part 4: Define Your Project Plan\n",
    "\n",
    "Now that you understand your data, in the markdown cell below, define your plan to implement the remaining phases of the machine learning life cycle (data preparation, modeling, evaluation) to solve your ML problem. Answer the following questions:\n",
    "\n",
    "* Do you have a new feature list? If so, what are the features that you chose to keep and remove after inspecting the data? \n",
    "* Explain different data preparation techniques that you will use to prepare your data for modeling.\n",
    "* What is your model (or models)?\n",
    "* Describe your plan to train your model, analyze its performance and then improve the model. That is, describe your model building, validation and selection plan to produce a model that generalizes well to new data. "
   ]
  },
  {
   "cell_type": "markdown",
   "metadata": {},
   "source": [
    "After inspecting the data and removing high-missing and potentially leaky features the final feature set includes: price, accomodates, bedrooms, beds, availability_365, room_type, and description. I decided to remove host_about, host_response_rate, host_name, host_is_superhost, host_location, and name since these would provide low predictive value and neigborhood_overview was dropped to avoid leakage. \n",
    "\n",
    "To prepare my data for modeling I replaced missing values by inputing the median for bedrooms and beds and replacing missing descriptions with 'missing'. I removed outliers by capping them at the 99th percentile. For the description I will use TF-IDF to convert this text into numerical features and standardize numeric features when using models sensitive to feature magnitude such as logistic regression.\n",
    "\n",
    "For my model I want to try two inital models: logistic regression and a random forest classifier. I will use an 80/20 split for testing and training and apply a 5 fold cross validation to compare model performance and reduce overfitting. To analyze performance I will look at accuracy, f-1 score, and a confusion matrix. To improve my model I will tune hyperparameters such as regularization for logistic regression and number of trees in the random forest. I will also experiment with feature relationships, consider dimensionality reduction, and use class weighting if predictions are biased due to imbalance. "
   ]
  },
  {
   "cell_type": "markdown",
   "metadata": {},
   "source": [
    "## Part 5: Implement Your Project Plan\n",
    "\n",
    "<b>Task:</b> In the code cell below, import additional packages that you have used in this course that you will need to implement your project plan."
   ]
  },
  {
   "cell_type": "code",
   "execution_count": 33,
   "metadata": {},
   "outputs": [],
   "source": [
    "from sklearn.model_selection import train_test_split\n",
    "from sklearn.feature_extraction.text import TfidfVectorizer\n",
    "from sklearn.preprocessing import StandardScaler, OneHotEncoder\n",
    "from sklearn.linear_model import LogisticRegression\n",
    "from sklearn.ensemble import RandomForestClassifier\n",
    "from sklearn.metrics import classification_report, confusion_matrix\n",
    "import numpy as np\n"
   ]
  },
  {
   "cell_type": "markdown",
   "metadata": {},
   "source": [
    "<b>Task:</b> Use the rest of this notebook to carry out your project plan. \n",
    "\n",
    "You will:\n",
    "\n",
    "1. Prepare your data for your model.\n",
    "2. Fit your model to the training data and evaluate your model.\n",
    "3. Improve your model's performance by performing model selection and/or feature selection techniques to find best model for your problem.\n",
    "\n",
    "Add code cells below and populate the notebook with commentary, code, analyses, results, and figures as you see fit. "
   ]
  },
  {
   "cell_type": "code",
   "execution_count": 34,
   "metadata": {},
   "outputs": [],
   "source": [
    "# Define Features and Label\n",
    "\n",
    "X = df.drop(columns = ['neighbourhood_group'])\n",
    "y = df['neighbourhood_group']"
   ]
  },
  {
   "cell_type": "code",
   "execution_count": 35,
   "metadata": {},
   "outputs": [],
   "source": [
    "# Split\n",
    "X_train, X_test, y_train, y_test = train_test_split(X, y, test_size = 0.2, random_state=42)"
   ]
  },
  {
   "cell_type": "code",
   "execution_count": 36,
   "metadata": {},
   "outputs": [],
   "source": [
    "# Preprocessing for each col type\n",
    "\n",
    "scaler = StandardScaler()\n",
    "X_train_num = scaler.fit_transform(X_train[['price','accommodates','bedrooms','beds','availability_365']])\n",
    "X_test_num = scaler.fit_transform(X_test[['price','accommodates','bedrooms','beds','availability_365']])\n",
    "\n",
    "encoder = OneHotEncoder(drop = 'first', sparse_output =False)\n",
    "X_train_cat = encoder.fit_transform(X_train[['room_type']])\n",
    "X_test_cat = encoder.transform(X_test[['room_type']])\n",
    "\n",
    "vectorizer = TfidfVectorizer(max_features=100)\n",
    "X_train_text = vectorizer.fit_transform(X_train['description']).toarray()\n",
    "X_test_text = vectorizer.transform(X_test['description']).toarray()\n",
    "\n",
    "X_train_final = np.hstack([X_train_num, X_train_cat, X_train_text])\n",
    "X_test_final = np.hstack([X_test_num, X_test_cat, X_test_text])"
   ]
  },
  {
   "cell_type": "code",
   "execution_count": 37,
   "metadata": {},
   "outputs": [
    {
     "name": "stdout",
     "output_type": "stream",
     "text": [
      "Logistic Regression\n",
      "LR Results:\n",
      "               precision    recall  f1-score   support\n",
      "\n",
      "        Bronx       0.50      0.01      0.01       133\n",
      "     Brooklyn       0.71      0.72      0.72      1942\n",
      "    Manhattan       0.70      0.81      0.75      1769\n",
      "       Queens       0.56      0.46      0.51       730\n",
      "Staten Island       0.00      0.00      0.00        57\n",
      "\n",
      "     accuracy                           0.68      4631\n",
      "    macro avg       0.49      0.40      0.40      4631\n",
      " weighted avg       0.67      0.68      0.67      4631\n",
      "\n",
      "Confusion Matrix: \n",
      " [[   1   53   35   44    0]\n",
      " [   0 1403  406  133    0]\n",
      " [   0  279 1428   62    0]\n",
      " [   1  210  181  338    0]\n",
      " [   0   31    4   22    0]]\n"
     ]
    },
    {
     "name": "stderr",
     "output_type": "stream",
     "text": [
      "/home/ubuntu/.pyenv/versions/3.9.19/lib/python3.9/site-packages/sklearn/metrics/_classification.py:1509: UndefinedMetricWarning: Precision is ill-defined and being set to 0.0 in labels with no predicted samples. Use `zero_division` parameter to control this behavior.\n",
      "  _warn_prf(average, modifier, f\"{metric.capitalize()} is\", len(result))\n",
      "/home/ubuntu/.pyenv/versions/3.9.19/lib/python3.9/site-packages/sklearn/metrics/_classification.py:1509: UndefinedMetricWarning: Precision is ill-defined and being set to 0.0 in labels with no predicted samples. Use `zero_division` parameter to control this behavior.\n",
      "  _warn_prf(average, modifier, f\"{metric.capitalize()} is\", len(result))\n",
      "/home/ubuntu/.pyenv/versions/3.9.19/lib/python3.9/site-packages/sklearn/metrics/_classification.py:1509: UndefinedMetricWarning: Precision is ill-defined and being set to 0.0 in labels with no predicted samples. Use `zero_division` parameter to control this behavior.\n",
      "  _warn_prf(average, modifier, f\"{metric.capitalize()} is\", len(result))\n"
     ]
    }
   ],
   "source": [
    "# Logistic Regression\n",
    "\n",
    "print(\"Logistic Regression\")\n",
    "lr_model = LogisticRegression(max_iter=1000, multi_class = 'multinomial')\n",
    "lr_model.fit(X_train_final, y_train)\n",
    "y_pred_lr = lr_model.predict(X_test_final)\n",
    "\n",
    "print(\"LR Results:\")\n",
    "print(classification_report(y_test, y_pred_lr))\n",
    "print(\"Confusion Matrix: \\n\", confusion_matrix(y_test, y_pred_lr))"
   ]
  },
  {
   "cell_type": "code",
   "execution_count": 38,
   "metadata": {},
   "outputs": [
    {
     "name": "stdout",
     "output_type": "stream",
     "text": [
      "Random Forest\n",
      "RF Results:\n",
      "               precision    recall  f1-score   support\n",
      "\n",
      "        Bronx       0.76      0.10      0.17       133\n",
      "     Brooklyn       0.72      0.75      0.73      1942\n",
      "    Manhattan       0.69      0.86      0.76      1769\n",
      "       Queens       0.70      0.37      0.48       730\n",
      "Staten Island       1.00      0.18      0.30        57\n",
      "\n",
      "     accuracy                           0.70      4631\n",
      "    macro avg       0.77      0.45      0.49      4631\n",
      " weighted avg       0.71      0.70      0.68      4631\n",
      "\n",
      "Confusion Matrix: \n",
      " [[  13   50   43   27    0]\n",
      " [   2 1450  434   56    0]\n",
      " [   1  229 1515   24    0]\n",
      " [   1  252  208  269    0]\n",
      " [   0   34    6    7   10]]\n"
     ]
    }
   ],
   "source": [
    "# Random Forest\n",
    "print(\"Random Forest\")\n",
    "rf_model = RandomForestClassifier(n_estimators=100, random_state = 42)\n",
    "rf_model.fit(X_train_final, y_train)\n",
    "y_pred_rf = rf_model.predict(X_test_final)\n",
    "\n",
    "print(\"RF Results:\")\n",
    "print(classification_report(y_test, y_pred_rf))\n",
    "print(\"Confusion Matrix: \\n\", confusion_matrix(y_test, y_pred_rf))\n"
   ]
  },
  {
   "cell_type": "code",
   "execution_count": 39,
   "metadata": {},
   "outputs": [
    {
     "name": "stdout",
     "output_type": "stream",
     "text": [
      "Brooklyn         0.422487\n",
      "Manhattan        0.386808\n",
      "Queens           0.150317\n",
      "Bronx            0.030323\n",
      "Staten Island    0.010064\n",
      "Name: neighbourhood_group, dtype: float64\n"
     ]
    }
   ],
   "source": [
    "print(y.value_counts(normalize=True))"
   ]
  },
  {
   "cell_type": "code",
   "execution_count": 40,
   "metadata": {},
   "outputs": [],
   "source": [
    "lr_model = LogisticRegression(max_iter=1000, multi_class='multinomial',class_weight='balanced')\n",
    "rf_model = RandomForestClassifier(n_estimators=100, random_state=42, class_weight='balanced')"
   ]
  },
  {
   "cell_type": "code",
   "execution_count": 41,
   "metadata": {},
   "outputs": [
    {
     "name": "stdout",
     "output_type": "stream",
     "text": [
      "LR Results:\n",
      "               precision    recall  f1-score   support\n",
      "\n",
      "        Bronx       0.09      0.45      0.15       133\n",
      "     Brooklyn       0.85      0.56      0.68      1942\n",
      "    Manhattan       0.73      0.71      0.72      1769\n",
      "       Queens       0.42      0.39      0.40       730\n",
      "Staten Island       0.11      0.60      0.18        57\n",
      "\n",
      "     accuracy                           0.59      4631\n",
      "    macro avg       0.44      0.54      0.43      4631\n",
      " weighted avg       0.71      0.59      0.63      4631\n",
      "\n",
      "Confusion Matrix: \n",
      " [[  60   10   16   28   19]\n",
      " [ 205 1088  338  209  102]\n",
      " [ 171  129 1253  152   64]\n",
      " [ 204   45  101  282   98]\n",
      " [  14    1    1    7   34]]\n"
     ]
    }
   ],
   "source": [
    "#Evaluate LR Again\n",
    "lr_model.fit(X_train_final, y_train)\n",
    "y_pred_lr = lr_model.predict(X_test_final)\n",
    "\n",
    "print(\"LR Results:\")\n",
    "print(classification_report(y_test, y_pred_lr))\n",
    "print(\"Confusion Matrix: \\n\", confusion_matrix(y_test, y_pred_lr))"
   ]
  },
  {
   "cell_type": "code",
   "execution_count": 42,
   "metadata": {},
   "outputs": [
    {
     "data": {
      "image/png": "[encoded data removed]",
      "text/plain": [
       "<Figure size 800x600 with 2 Axes>"
      ]
     },
     "metadata": {},
     "output_type": "display_data"
    }
   ],
   "source": [
    "# Cmatrix as heatmap\n",
    "\n",
    "labels = y.unique()\n",
    "\n",
    "cm=confusion_matrix(y_test, y_pred_lr, labels = labels)\n",
    "plt.figure(figsize=(8,6))\n",
    "sns.heatmap(cm,annot=True, fmt='d',cmap='Blues',xticklabels = labels, yticklabels=labels)\n",
    "plt.title(\"Confusion Matrix - Logistic Regression\")\n",
    "plt.xlabel(\"Predicted\")\n",
    "plt.ylabel(\"Actual\")\n",
    "plt.show()"
   ]
  },
  {
   "cell_type": "code",
   "execution_count": 43,
   "metadata": {},
   "outputs": [
    {
     "name": "stdout",
     "output_type": "stream",
     "text": [
      "RF Results:\n",
      "               precision    recall  f1-score   support\n",
      "\n",
      "        Bronx       0.81      0.10      0.17       133\n",
      "     Brooklyn       0.72      0.73      0.72      1942\n",
      "    Manhattan       0.66      0.87      0.75      1769\n",
      "       Queens       0.75      0.34      0.47       730\n",
      "Staten Island       1.00      0.14      0.25        57\n",
      "\n",
      "     accuracy                           0.69      4631\n",
      "    macro avg       0.79      0.43      0.47      4631\n",
      " weighted avg       0.71      0.69      0.67      4631\n",
      "\n",
      "Confusion Matrix: \n",
      " [[  13   56   41   23    0]\n",
      " [   2 1411  491   38    0]\n",
      " [   1  213 1538   17    0]\n",
      " [   0  250  232  248    0]\n",
      " [   0   28   15    6    8]]\n"
     ]
    }
   ],
   "source": [
    "# Evaluate RF Again\n",
    "\n",
    "rf_model.fit(X_train_final, y_train)\n",
    "y_pred_rf = rf_model.predict(X_test_final)\n",
    "\n",
    "print(\"RF Results:\")\n",
    "print(classification_report(y_test, y_pred_rf))\n",
    "print(\"Confusion Matrix: \\n\", confusion_matrix(y_test, y_pred_rf))\n"
   ]
  },
  {
   "cell_type": "code",
   "execution_count": 44,
   "metadata": {},
   "outputs": [
    {
     "data": {
      "image/png": "[encoded data removed]",
      "text/plain": [
       "<Figure size 800x600 with 2 Axes>"
      ]
     },
     "metadata": {},
     "output_type": "display_data"
    }
   ],
   "source": [
    "# Cmatrix as heatmap\n",
    "\n",
    "labels = y.unique()\n",
    "\n",
    "cm=confusion_matrix(y_test, y_pred_rf, labels = labels)\n",
    "plt.figure(figsize=(8,6))\n",
    "sns.heatmap(cm,annot=True, fmt='d',cmap='Blues',xticklabels = labels, yticklabels=labels)\n",
    "plt.title(\"Confusion Matrix - Random Forest\")\n",
    "plt.xlabel(\"Predicted\")\n",
    "plt.ylabel(\"Actual\")\n",
    "plt.show()"
   ]
  },
  {
   "cell_type": "code",
   "execution_count": 45,
   "metadata": {},
   "outputs": [
    {
     "name": "stdout",
     "output_type": "stream",
     "text": [
      "Fitting 3 folds for each of 12 candidates, totalling 36 fits\n",
      "Tuned RF Results:\n",
      "               precision    recall  f1-score   support\n",
      "\n",
      "        Bronx       0.13      0.30      0.18       133\n",
      "     Brooklyn       0.90      0.52      0.66      1942\n",
      "    Manhattan       0.66      0.84      0.74      1769\n",
      "       Queens       0.45      0.57      0.50       730\n",
      "Staten Island       0.60      0.21      0.31        57\n",
      "\n",
      "     accuracy                           0.64      4631\n",
      "    macro avg       0.55      0.49      0.48      4631\n",
      " weighted avg       0.71      0.64      0.65      4631\n",
      "\n"
     ]
    }
   ],
   "source": [
    "# RF with GridSearchCV\n",
    "\n",
    "from sklearn.model_selection import GridSearchCV\n",
    "\n",
    "param_grid = {\n",
    "    'n_estimators': [100, 200],\n",
    "    'max_depth': [10, 20, None],\n",
    "    'max_features': ['sqrt', 'log2']\n",
    "}\n",
    "\n",
    "grid_search = GridSearchCV(\n",
    "    estimator = RandomForestClassifier(random_state=42, class_weight = 'balanced'),\n",
    "    param_grid = param_grid,\n",
    "    cv=3,\n",
    "    scoring = 'f1_macro',\n",
    "    n_jobs = -1,\n",
    "    verbose = 1\n",
    ")\n",
    "\n",
    "grid_search.fit(X_train_final, y_train)\n",
    "best_rf = grid_search.best_estimator_\n",
    "\n",
    "y_pred_best_rf = best_rf.predict(X_test_final)\n",
    "\n",
    "print(\"Tuned RF Results:\")\n",
    "print(classification_report(y_test, y_pred_best_rf))"
   ]
  },
  {
   "cell_type": "markdown",
   "metadata": {},
   "source": [
    "I evaluated both Logistic Regression and Random Forest on a multiclass classification task predicting the borough of NYC Airbnb listings. Class imbalance was a challenge as Manhattan and Brooklyn dominated the data and Bronx and Staten Island were underrepresented. To address this I applied class_weight = 'balanced', which significantly improved the recall of minority classes in Logistic Regression. While Random Forest achieved higher accuracy at 69%, the recall for Bronx and Staten Island remained low. \n",
    "\n",
    "I used GridSearchCV to tune hyperparameters for the Random Forest and saw an improvement in recall and F-1 score for the Bronx and Staten Island. Macro F-1 score also increased and accuracy remained strong. "
   ]
  }
 ],
 "metadata": {
  "kernelspec": {
   "display_name": "Python 3 (ipykernel)",
   "language": "python",
   "name": "python3"
  },
  "language_info": {
   "codemirror_mode": {
    "name": "ipython",
    "version": 3
   },
   "file_extension": ".py",
   "mimetype": "text/x-python",
   "name": "python",
   "nbconvert_exporter": "python",
   "pygments_lexer": "ipython3",
   "version": "3.9.19"
  },
  "toc": {
   "base_numbering": 1,
   "nav_menu": {},
   "number_sections": false,
   "sideBar": true,
   "skip_h1_title": false,
   "title_cell": "Table of Contents",
   "title_sidebar": "Contents",
   "toc_cell": false,
   "toc_position": {},
   "toc_section_display": true,
   "toc_window_display": false
  },
  "varInspector": {
   "cols": {
    "lenName": 16,
    "lenType": 16,
    "lenVar": 40
   },
   "kernels_config": {
    "python": {
     "delete_cmd_postfix": "",
     "delete_cmd_prefix": "del ",
     "library": "var_list.py",
     "varRefreshCmd": "print(var_dic_list())"
    },
    "r": {
     "delete_cmd_postfix": ") ",
     "delete_cmd_prefix": "rm(",
     "library": "var_list.r",
     "varRefreshCmd": "cat(var_dic_list()) "
    }
   },
   "types_to_exclude": [
    "module",
    "function",
    "builtin_function_or_method",
    "instance",
    "_Feature"
   ],
   "window_display": false
  }
 },
 "nbformat": 4,
 "nbformat_minor": 4
}
